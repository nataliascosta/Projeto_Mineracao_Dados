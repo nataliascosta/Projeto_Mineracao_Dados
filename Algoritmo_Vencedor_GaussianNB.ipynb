{
 "cells": [
  {
   "cell_type": "markdown",
   "id": "47f418d9",
   "metadata": {},
   "source": [
    "# Algoritmo Vencedor - GaussianNB"
   ]
  },
  {
   "cell_type": "markdown",
   "id": "30460409",
   "metadata": {},
   "source": [
    "### Imports necessários"
   ]
  },
  {
   "cell_type": "code",
   "execution_count": null,
   "id": "ba9cb34d",
   "metadata": {},
   "outputs": [],
   "source": [
    "from sklearn.model_selection import train_test_split\n",
    "from sklearn.naive_bayes import GaussianNB\n",
    "from sklearn.metrics import classification_report\n",
    "from sklearn.preprocessing import LabelEncoder, MinMaxScaler\n",
    "import pandas as pd"
   ]
  },
  {
   "cell_type": "markdown",
   "id": "67abbb32",
   "metadata": {},
   "source": [
    "### Leitura do arquivo"
   ]
  },
  {
   "cell_type": "code",
   "execution_count": null,
   "id": "5b164492",
   "metadata": {},
   "outputs": [],
   "source": [
    "dados = pd.read_csv('Casos_e_obitos_ESP.csv', sep=';')"
   ]
  },
  {
   "cell_type": "markdown",
   "id": "871c93d4",
   "metadata": {},
   "source": [
    "### Exclusão de linhas com valores faltantes"
   ]
  },
  {
   "cell_type": "code",
   "execution_count": null,
   "id": "b52b7df0",
   "metadata": {},
   "outputs": [],
   "source": [
    "dados.dropna(inplace=True)"
   ]
  },
  {
   "cell_type": "markdown",
   "id": "cbf35d9b",
   "metadata": {},
   "source": [
    "### Seleção de atributos (x) e variável alvo (y)"
   ]
  },
  {
   "cell_type": "code",
   "execution_count": null,
   "id": "e956e50d",
   "metadata": {},
   "outputs": [],
   "source": [
    "X = dados[['Asma', 'Cardiopatia', 'Data_Inicio_Sintomas', 'Diabetes', 'Diagnostico_Covid19', 'Doenca_Hematologica',\n",
    "           'Doenca_Hepatica', 'Doenca_Neurologica', 'Doenca Renal', 'Genero', 'Idade', 'Imunodepressao', 'Municipio',\n",
    "           'Obesidade', 'Outros_Fatores_De_Risco', 'Pneumopatia', 'Puérpera', 'Síndrome_De_Down']].copy()\n",
    "y = dados['Obito'].copy()"
   ]
  },
  {
   "cell_type": "markdown",
   "id": "2453b0f6",
   "metadata": {},
   "source": [
    "### Inicialização de um codificador de rótulos"
   ]
  },
  {
   "cell_type": "code",
   "execution_count": null,
   "id": "2eba31ff",
   "metadata": {},
   "outputs": [],
   "source": [
    "le = LabelEncoder()"
   ]
  },
  {
   "cell_type": "markdown",
   "id": "1a82f1d8",
   "metadata": {},
   "source": [
    "### Normalização dos dados"
   ]
  },
  {
   "cell_type": "code",
   "execution_count": null,
   "id": "ba997e8f",
   "metadata": {},
   "outputs": [],
   "source": [
    "for column in X.columns:\n",
    "    if X[column].dtype == 'object':\n",
    "        X[column] = le.fit_transform(X[column].astype(str))"
   ]
  },
  {
   "cell_type": "code",
   "execution_count": null,
   "id": "c03d8a63",
   "metadata": {},
   "outputs": [],
   "source": [
    "scaler = MinMaxScaler()"
   ]
  },
  {
   "cell_type": "code",
   "execution_count": null,
   "id": "02a97d39",
   "metadata": {},
   "outputs": [],
   "source": [
    "X_normalizado = scaler.fit_transform(X)"
   ]
  },
  {
   "cell_type": "markdown",
   "id": "2b27af83",
   "metadata": {},
   "source": [
    "### Divisão dos dados em treinamento e teste"
   ]
  },
  {
   "cell_type": "code",
   "execution_count": null,
   "id": "cb6b913c",
   "metadata": {},
   "outputs": [],
   "source": [
    "X_train, X_test, y_train, y_test = train_test_split(X, y, test_size=0.2, random_state=42)"
   ]
  },
  {
   "cell_type": "markdown",
   "id": "41ef6e4a",
   "metadata": {},
   "source": [
    "### Instância do classificador Gaussian Naive Bayes"
   ]
  },
  {
   "cell_type": "code",
   "execution_count": null,
   "id": "540a58df",
   "metadata": {},
   "outputs": [],
   "source": [
    "clf = GaussianNB()"
   ]
  },
  {
   "cell_type": "markdown",
   "id": "29b63b10",
   "metadata": {},
   "source": [
    "### Treinamento do classificador"
   ]
  },
  {
   "cell_type": "code",
   "execution_count": null,
   "id": "71539933",
   "metadata": {},
   "outputs": [],
   "source": [
    "clf.fit(X_train, y_train)"
   ]
  },
  {
   "cell_type": "markdown",
   "id": "43374a54",
   "metadata": {},
   "source": [
    "### Previsões no conjunto de teste"
   ]
  },
  {
   "cell_type": "code",
   "execution_count": null,
   "id": "4612adc8",
   "metadata": {},
   "outputs": [],
   "source": [
    "y_pred = clf.predict(X_test)"
   ]
  },
  {
   "cell_type": "markdown",
   "id": "8b94a764",
   "metadata": {},
   "source": [
    "### Criação de CSV com o relatório"
   ]
  },
  {
   "cell_type": "code",
   "execution_count": null,
   "id": "39fd3ff5",
   "metadata": {},
   "outputs": [],
   "source": [
    "report_dict = classification_report(y_test, y_pred, output_dict=True)\n",
    "df = pd.DataFrame(report_dict).transpose()\n",
    "df.to_csv('classification_report.csv', index=True)"
   ]
  }
 ],
 "metadata": {
  "kernelspec": {
   "display_name": "Python 3",
   "language": "python",
   "name": "python3"
  },
  "language_info": {
   "codemirror_mode": {
    "name": "ipython",
    "version": 3
   },
   "file_extension": ".py",
   "mimetype": "text/x-python",
   "name": "python",
   "nbconvert_exporter": "python",
   "pygments_lexer": "ipython3",
   "version": "3.8.5"
  }
 },
 "nbformat": 4,
 "nbformat_minor": 5
}
