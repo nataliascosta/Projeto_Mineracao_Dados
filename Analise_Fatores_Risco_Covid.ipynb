{
  "cells": [
    {
      "cell_type": "markdown",
      "metadata": {
        "id": "jIBq674qPOqB"
      },
      "source": [
        "\n",
        "# Análise de Fatores de Risco para a Covid-19 \n",
        "\n",
        "Neste projeto, serão analisados os fatores de risco para a Covid-19, levando em consideração doenças que são fatores de risco, idade, gênero e outras características.  "
      ]
    },
    {
      "cell_type": "markdown",
      "metadata": {
        "id": "kh5WqY2GFRRX"
      },
      "source": [
        "**Alunas: Eliane Dantas de Jesus e Natalia da Silva Costa**"
      ]
    },
    {
      "cell_type": "markdown",
      "metadata": {
        "collapsed": true,
        "id": "FT_8OXdYPOqF"
      },
      "source": [
        "### Imports necessários para a execução do projeto"
      ]
    },
    {
      "cell_type": "code",
      "execution_count": 1,
      "metadata": {
        "id": "tRD-gGCkRL5F"
      },
      "outputs": [],
      "source": [
        "import pandas as pd\n",
        "import re\n",
        "from sklearn.model_selection import cross_val_score\n",
        "from sklearn.metrics import accuracy_score, precision_score, recall_score, f1_score\n",
        "from sklearn.tree import DecisionTreeClassifier\n",
        "from sklearn.ensemble import RandomForestClassifier, GradientBoostingClassifier\n",
        "from sklearn.neighbors import KNeighborsClassifier\n",
        "from sklearn.svm import SVC\n",
        "from sklearn.linear_model import LogisticRegression\n",
        "from xgboost import XGBClassifier\n",
        "from lightgbm import LGBMClassifier\n",
        "from catboost import CatBoostClassifier\n",
        "from sklearn.preprocessing import LabelEncoder, MinMaxScaler"
      ]
    },
    {
      "cell_type": "markdown",
      "metadata": {},
      "source": [
        "### Leitura do arquivo csv"
      ]
    },
    {
      "cell_type": "code",
      "execution_count": 2,
      "metadata": {
        "id": "t39LhVNDPOqG"
      },
      "outputs": [],
      "source": [
        "df = pd.read_csv('Casos_e_obitos_ESP.csv', sep=';')"
      ]
    },
    {
      "cell_type": "markdown",
      "metadata": {
        "id": "bhFnbDr6POqI"
      },
      "source": [
        "### Verificação da quantidade de registros"
      ]
    },
    {
      "cell_type": "code",
      "execution_count": null,
      "metadata": {
        "colab": {
          "base_uri": "https://localhost:8080/"
        },
        "id": "Csaf0KdZPOqI",
        "outputId": "bb415392-6347-4417-9a65-e238c4298bd9"
      },
      "outputs": [],
      "source": [
        "num_registros = len(df)\n",
        "print(\"Número total de registros:\", num_registros)"
      ]
    },
    {
      "cell_type": "markdown",
      "metadata": {
        "id": "LRUaMJzTPOqJ"
      },
      "source": [
        "### Verificação dos valores faltando por coluna"
      ]
    },
    {
      "cell_type": "code",
      "execution_count": null,
      "metadata": {
        "colab": {
          "base_uri": "https://localhost:8080/"
        },
        "id": "bDxlzm_EPOqJ",
        "outputId": "cdc1ab98-27a4-442b-c5f2-e6120e4ff206"
      },
      "outputs": [],
      "source": [
        "valores_faltando = df.isnull().sum()\n",
        "print(\"\\nValores faltando por coluna:\")\n",
        "print(valores_faltando)"
      ]
    },
    {
      "cell_type": "markdown",
      "metadata": {
        "id": "iqc9QEllPOqJ"
      },
      "source": [
        "### Verificação do número de linhas duplicadas"
      ]
    },
    {
      "cell_type": "code",
      "execution_count": null,
      "metadata": {
        "colab": {
          "base_uri": "https://localhost:8080/"
        },
        "id": "Z8UCkIOVPOqK",
        "outputId": "7135b790-5931-4a6c-a44d-f7c6b522c961"
      },
      "outputs": [],
      "source": [
        "linhas_duplicadas = df.duplicated().sum()\n",
        "print(\"\\nNúmero de linhas duplicadas:\", linhas_duplicadas)"
      ]
    },
    {
      "cell_type": "markdown",
      "metadata": {
        "id": "NQA1yVj9POqK"
      },
      "source": [
        "### Verificação de dados sujos"
      ]
    },
    {
      "cell_type": "code",
      "execution_count": null,
      "metadata": {
        "colab": {
          "base_uri": "https://localhost:8080/"
        },
        "id": "54Z8Q0f6POqL",
        "outputId": "a4a7ec28-cba6-4d36-f399-201b5a891758"
      },
      "outputs": [],
      "source": [
        "# Verificação do padrão da data\n",
        "def verificar_padrao_data(data):\n",
        "    if pd.isnull(data):  # Verificar se o valor é nulo\n",
        "        return False  # Se for nulo, não é uma data suja\n",
        "    # Verificar se a data possui 8 dígitos e o formato xx/xx/xxxx\n",
        "    padrao = re.compile(r'^\\d{2}/\\d{2}/\\d{4}$')\n",
        "    if re.match(padrao, str(data)):  # Convertendo para string antes da verificação\n",
        "        return True\n",
        "    else:\n",
        "        return False"
      ]
    },
    {
      "cell_type": "code",
      "execution_count": null,
      "metadata": {},
      "outputs": [],
      "source": [
        "# Verificação se é uma data suja\n",
        "datas_sujas = []\n",
        "for index, row in df.iterrows():\n",
        "    if not verificar_padrao_data(row['Data_Inicio_Sintomas']):\n",
        "        datas_sujas.append((index, row['Data_Inicio_Sintomas']))\n",
        "\n",
        "# Imprimir as datas sujas\n",
        "print(\"Datas sujas:\")\n",
        "for index, data in datas_sujas:\n",
        "    print(\"Linha:\", index, \"- Data:\", data)"
      ]
    },
    {
      "cell_type": "markdown",
      "metadata": {
        "id": "-fKCNBEbPOqL"
      },
      "source": [
        "### Estatísticas descritivas"
      ]
    },
    {
      "cell_type": "code",
      "execution_count": null,
      "metadata": {
        "colab": {
          "base_uri": "https://localhost:8080/"
        },
        "id": "y-Su2ZE6POqL",
        "outputId": "976a5f5d-9d6a-4b8f-e2d7-696026ee2fde"
      },
      "outputs": [],
      "source": [
        "print(\"\\nEstatísticas descritivas:\")\n",
        "estatisticas_descritivas = df.describe()\n",
        "print(estatisticas_descritivas)"
      ]
    },
    {
      "cell_type": "code",
      "execution_count": null,
      "metadata": {
        "colab": {
          "base_uri": "https://localhost:8080/"
        },
        "id": "0VGksrmW-cRa",
        "outputId": "2eec1d63-a08c-42fa-fc45-5bda1f0faf0f"
      },
      "outputs": [],
      "source": [
        "# Calcular o IQR\n",
        "Q1 = df['Idade'].quantile(0.25)\n",
        "Q3 = df['Idade'].quantile(0.75)\n",
        "IQR = Q3 - Q1"
      ]
    },
    {
      "cell_type": "code",
      "execution_count": null,
      "metadata": {},
      "outputs": [],
      "source": [
        "# Identificar outliers\n",
        "outliers = df[(df['Idade'] < Q1 - 1.5 * IQR) | (df['Idade'] > Q3 + 1.5 * IQR)]\n",
        "\n",
        "# Imprimir resultados\n",
        "print(\"Número de outliers na coluna 'Idade':\", len(outliers))\n",
        "\n",
        "# Salvar os outliers em um arquivo CSV\n",
        "outliers.to_csv('outliers.csv', index=False)"
      ]
    },
    {
      "cell_type": "markdown",
      "metadata": {
        "id": "FuGLDFH7POqL"
      },
      "source": [
        "### **Cross Validation com 10 algoritmos**"
      ]
    },
    {
      "cell_type": "markdown",
      "metadata": {},
      "source": [
        "### Leitura do arquivo csv"
      ]
    },
    {
      "cell_type": "code",
      "execution_count": null,
      "metadata": {
        "colab": {
          "base_uri": "https://localhost:8080/",
          "height": 112
        },
        "id": "FN-cM1HSPOqL",
        "outputId": "4c41b869-8393-4e2d-8593-666297fc0b14"
      },
      "outputs": [],
      "source": [
        "dados = pd.read_csv('Casos_e_obitos_ESP.csv', sep=';')"
      ]
    },
    {
      "cell_type": "markdown",
      "metadata": {
        "id": "f4jJf4FnPOqM"
      },
      "source": [
        "### Remoção de linhas com valores faltantes"
      ]
    },
    {
      "cell_type": "code",
      "execution_count": null,
      "metadata": {
        "colab": {
          "base_uri": "https://localhost:8080/"
        },
        "id": "llYJ4Gk6POqM",
        "outputId": "e39c8ab4-7b29-4a7b-99ca-27914567b8df"
      },
      "outputs": [],
      "source": [
        "dados.dropna(inplace=True)"
      ]
    },
    {
      "cell_type": "markdown",
      "metadata": {
        "id": "zGpYPzArPOqM"
      },
      "source": [
        "### Seleção de atributos (x) e variável alvo (y)"
      ]
    },
    {
      "cell_type": "code",
      "execution_count": null,
      "metadata": {
        "colab": {
          "base_uri": "https://localhost:8080/"
        },
        "id": "eBRAvyTNPOqM",
        "outputId": "99587d7a-dec1-490b-e7d5-5485a3d8b2b5"
      },
      "outputs": [],
      "source": [
        "X = dados[['Asma', 'Cardiopatia', 'Data_Inicio_Sintomas', 'Diabetes', 'Diagnostico_Covid19', 'Doenca_Hematologica',\n",
        "           'Doenca_Hepatica', 'Doenca_Neurologica', 'Doenca Renal', 'Genero', 'Idade', 'Imunodepressao', 'Municipio',\n",
        "           'Obesidade', 'Outros_Fatores_De_Risco', 'Pneumopatia', 'Puérpera', 'Síndrome_De_Down']]\n",
        "y = dados['Obito']"
      ]
    },
    {
      "cell_type": "markdown",
      "metadata": {
        "id": "lirzj2kvPOqM"
      },
      "source": [
        "### Inicialização de um codificador de rótulos"
      ]
    },
    {
      "cell_type": "code",
      "execution_count": null,
      "metadata": {
        "colab": {
          "base_uri": "https://localhost:8080/"
        },
        "id": "OxeX7_RWPOqM",
        "outputId": "8870c25e-d739-4db8-b38f-79aec55e515e"
      },
      "outputs": [],
      "source": [
        "le = LabelEncoder()"
      ]
    },
    {
      "cell_type": "markdown",
      "metadata": {
        "id": "wgvnRG_vPOqN"
      },
      "source": [
        "### Normalização dos dados"
      ]
    },
    {
      "cell_type": "code",
      "execution_count": null,
      "metadata": {
        "colab": {
          "base_uri": "https://localhost:8080/"
        },
        "id": "EMxI8fpYPOqN",
        "outputId": "2f97a1a4-3781-4f2f-c5b2-74b73bc2f61f"
      },
      "outputs": [],
      "source": [
        "# Codificar variáveis categóricas\n",
        "for column in X.columns:\n",
        "    if X[column].dtype == 'object':\n",
        "        X.loc[:, column] = le.fit_transform(X[column])"
      ]
    },
    {
      "cell_type": "code",
      "execution_count": null,
      "metadata": {},
      "outputs": [],
      "source": [
        "# Inicializar o escalador Min-Max\n",
        "scaler = MinMaxScaler()"
      ]
    },
    {
      "cell_type": "code",
      "execution_count": null,
      "metadata": {},
      "outputs": [],
      "source": [
        "# Normalizar os dados\n",
        "X_normalizado = scaler.fit_transform(X)"
      ]
    },
    {
      "cell_type": "markdown",
      "metadata": {
        "id": "_WOnPX74POqN"
      },
      "source": [
        "### Lista de classificadores"
      ]
    },
    {
      "cell_type": "code",
      "execution_count": null,
      "metadata": {
        "colab": {
          "base_uri": "https://localhost:8080/"
        },
        "id": "sTqVOqBsPOqN",
        "outputId": "de1ae87a-5b7b-4dc0-bb28-d28b585991e3"
      },
      "outputs": [],
      "source": [
        "classifiers = [\n",
        "    DecisionTreeClassifier(),\n",
        "    RandomForestClassifier(),\n",
        "    KNeighborsClassifier(),\n",
        "    SVC(),\n",
        "    LogisticRegression(),\n",
        "    GradientBoostingClassifier(),\n",
        "    XGBClassifier(),\n",
        "    LGBMClassifier(),\n",
        "    CatBoostClassifier(verbose=False),\n",
        "    LogisticRegression(multi_class='multinomial', solver='lbfgs')\n",
        "]"
      ]
    },
    {
      "cell_type": "markdown",
      "metadata": {},
      "source": [
        "### Dicionário para armazenar as métricas de cada classificador"
      ]
    },
    {
      "cell_type": "code",
      "execution_count": null,
      "metadata": {
        "colab": {
          "base_uri": "https://localhost:8080/",
          "height": 394
        },
        "id": "4PxOS7iLDXWv",
        "outputId": "460327e5-7cf6-4e45-fcf1-cf4d086b71e4"
      },
      "outputs": [],
      "source": [
        "metrics = {\n",
        "    'Acurácia': [],\n",
        "    'Precisão': [],\n",
        "    'Sensibilidade/Recall': [],\n",
        "    'Medida-F1': []\n",
        "}"
      ]
    },
    {
      "cell_type": "markdown",
      "metadata": {
        "id": "9ayTvOMiPOqO"
      },
      "source": [
        "### Execução da cross validation para cada classificador"
      ]
    },
    {
      "cell_type": "code",
      "execution_count": null,
      "metadata": {
        "colab": {
          "base_uri": "https://localhost:8080/"
        },
        "id": "lryYmZh6POqO",
        "outputId": "3b62c4cd-1ebd-47af-ce5c-e7c266dcc1f3"
      },
      "outputs": [],
      "source": [
        "for classifier in classifiers:\n",
        "    # Calcula a acurácia usando validação cruzada (cv=10 para 10 folds)\n",
        "    accuracy = cross_val_score(classifier, X_normalizado, y, cv=10, scoring='accuracy').mean()\n",
        "    # Calcula a precisão usando validação cruzada\n",
        "    precision = cross_val_score(classifier, X_normalizado, y, cv=10, scoring='precision').mean()\n",
        "    # Calcula a sensibilidade/recall usando validação cruzada\n",
        "    recall = cross_val_score(classifier, X_normalizado, y, cv=10, scoring='recall').mean()\n",
        "    # Calcula a medida-F1 usando validação cruzada\n",
        "    f1 = cross_val_score(classifier, X_normalizado, y, cv=10, scoring='f1').mean()"
      ]
    },
    {
      "cell_type": "markdown",
      "metadata": {},
      "source": [
        "### Armazenamento das métricas calculadas no dicionário de métricas"
      ]
    },
    {
      "cell_type": "code",
      "execution_count": null,
      "metadata": {},
      "outputs": [],
      "source": [
        "metrics['Acurácia'].append(accuracy)\n",
        "metrics['Precisão'].append(precision)\n",
        "metrics['Sensibilidade/Recall'].append(recall)\n",
        "metrics['Medida-F1'].append(f1)"
      ]
    },
    {
      "cell_type": "markdown",
      "metadata": {},
      "source": [
        "### Exibição dos resultados"
      ]
    },
    {
      "cell_type": "code",
      "execution_count": null,
      "metadata": {},
      "outputs": [],
      "source": [
        "for metric, values in metrics.items():\n",
        "    print(f'{metric}: {values}')"
      ]
    }
  ],
  "metadata": {
    "colab": {
      "provenance": []
    },
    "kernelspec": {
      "display_name": "Python 3",
      "language": "python",
      "name": "python3"
    },
    "language_info": {
      "codemirror_mode": {
        "name": "ipython",
        "version": 3
      },
      "file_extension": ".py",
      "mimetype": "text/x-python",
      "name": "python",
      "nbconvert_exporter": "python",
      "pygments_lexer": "ipython3",
      "version": "3.7.4"
    },
    "toc": {
      "base_numbering": 1,
      "nav_menu": {},
      "number_sections": true,
      "sideBar": true,
      "skip_h1_title": false,
      "title_cell": "Table of Contents",
      "title_sidebar": "Contents",
      "toc_cell": false,
      "toc_position": {},
      "toc_section_display": true,
      "toc_window_display": false
    }
  },
  "nbformat": 4,
  "nbformat_minor": 0
}
