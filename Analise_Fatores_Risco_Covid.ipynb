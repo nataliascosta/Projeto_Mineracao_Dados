{
  "cells": [
    {
      "cell_type": "markdown",
      "metadata": {
        "id": "jIBq674qPOqB"
      },
      "source": [
        "\n",
        "# Análise de Fatores de Risco para a Covid-19 \n",
        "\n",
        "Neste projeto, serão analisados os fatores de risco para a Covid-19, levando em consideração doenças que são fatores de risco, idade, gênero e outras características.  "
      ]
    },
    {
      "cell_type": "markdown",
      "metadata": {
        "id": "kh5WqY2GFRRX"
      },
      "source": [
        "**Alunas: Eliane Dantas de Jesus e Natalia da Silva Costa**"
      ]
    },
    {
      "cell_type": "markdown",
      "metadata": {
        "collapsed": true,
        "id": "FT_8OXdYPOqF"
      },
      "source": [
        "### Imports necessários para a execução do projeto"
      ]
    },
    {
      "cell_type": "code",
      "execution_count": 18,
      "metadata": {
        "id": "tRD-gGCkRL5F"
      },
      "outputs": [],
      "source": [
        "import pandas as pd\n",
        "import re\n",
        "from sklearn.model_selection import cross_val_score, train_test_split\n",
        "from sklearn.metrics import accuracy_score, precision_score, recall_score, f1_score, classification_report\n",
        "from sklearn.neighbors import KNeighborsClassifier, NearestCentroid\n",
        "from sklearn.linear_model import LogisticRegression, RidgeClassifier\n",
        "from xgboost import XGBClassifier\n",
        "from sklearn.preprocessing import LabelEncoder, MinMaxScaler\n",
        "from sklearn.naive_bayes import GaussianNB, MultinomialNB"
      ]
    },
    {
      "cell_type": "markdown",
      "metadata": {},
      "source": [
        "### Leitura do arquivo csv"
      ]
    },
    {
      "cell_type": "code",
      "execution_count": 19,
      "metadata": {
        "id": "t39LhVNDPOqG"
      },
      "outputs": [],
      "source": [
        "dados = pd.read_csv('Casos_e_obitos_ESP.csv', sep=';')"
      ]
    },
    {
      "cell_type": "markdown",
      "metadata": {
        "id": "bhFnbDr6POqI"
      },
      "source": [
        "### Verificação da quantidade de registros"
      ]
    },
    {
      "cell_type": "code",
      "execution_count": 20,
      "metadata": {
        "colab": {
          "base_uri": "https://localhost:8080/"
        },
        "id": "Csaf0KdZPOqI",
        "outputId": "bb415392-6347-4417-9a65-e238c4298bd9"
      },
      "outputs": [
        {
          "name": "stdout",
          "output_type": "stream",
          "text": [
            "Número total de registros: 100000\n"
          ]
        }
      ],
      "source": [
        "num_registros = len(dados)\n",
        "print(\"Número total de registros:\", num_registros)"
      ]
    },
    {
      "cell_type": "markdown",
      "metadata": {
        "id": "LRUaMJzTPOqJ"
      },
      "source": [
        "### Verificação dos valores faltando por coluna"
      ]
    },
    {
      "cell_type": "code",
      "execution_count": 21,
      "metadata": {
        "colab": {
          "base_uri": "https://localhost:8080/"
        },
        "id": "bDxlzm_EPOqJ",
        "outputId": "cdc1ab98-27a4-442b-c5f2-e6120e4ff206"
      },
      "outputs": [
        {
          "name": "stdout",
          "output_type": "stream",
          "text": [
            "\n",
            "Valores faltando por coluna:\n",
            "Asma                          0\n",
            "Cardiopatia                   0\n",
            "Data_Inicio_Sintomas       3569\n",
            "Diabetes                      0\n",
            "Diagnostico_Covid19           0\n",
            "Doenca_Hematologica           0\n",
            "Doenca_Hepatica               0\n",
            "Doenca_Neurologica            0\n",
            "Doenca Renal                  0\n",
            "Genero                        0\n",
            "Idade                      3198\n",
            "Imunodepressao                0\n",
            "Municipio                     0\n",
            "Obesidade                     0\n",
            "Obito                         0\n",
            "Outros_Fatores_De_Risco       0\n",
            "Pneumopatia                   0\n",
            "Puérpera                      0\n",
            "Síndrome_De_Down              0\n",
            "dtype: int64\n"
          ]
        }
      ],
      "source": [
        "valores_faltando = dados.isnull().sum()\n",
        "print(\"\\nValores faltando por coluna:\")\n",
        "print(valores_faltando)"
      ]
    },
    {
      "cell_type": "markdown",
      "metadata": {
        "id": "iqc9QEllPOqJ"
      },
      "source": [
        "### Verificação do número de linhas duplicadas"
      ]
    },
    {
      "cell_type": "code",
      "execution_count": 22,
      "metadata": {
        "colab": {
          "base_uri": "https://localhost:8080/"
        },
        "id": "Z8UCkIOVPOqK",
        "outputId": "7135b790-5931-4a6c-a44d-f7c6b522c961"
      },
      "outputs": [
        {
          "name": "stdout",
          "output_type": "stream",
          "text": [
            "\n",
            "Número de linhas duplicadas: 4743\n"
          ]
        }
      ],
      "source": [
        "linhas_duplicadas = dados.duplicated().sum()\n",
        "print(\"\\nNúmero de linhas duplicadas:\", linhas_duplicadas)"
      ]
    },
    {
      "cell_type": "markdown",
      "metadata": {
        "id": "NQA1yVj9POqK"
      },
      "source": [
        "### Verificação de dados sujos"
      ]
    },
    {
      "cell_type": "code",
      "execution_count": 23,
      "metadata": {
        "colab": {
          "base_uri": "https://localhost:8080/"
        },
        "id": "54Z8Q0f6POqL",
        "outputId": "a4a7ec28-cba6-4d36-f399-201b5a891758"
      },
      "outputs": [],
      "source": [
        "def verificar_padrao_data(data):\n",
        "    if pd.isnull(data):\n",
        "        return False\n",
        "    \n",
        "    padrao = re.compile(r'^\\d{2}/\\d{2}/\\d{4}$')\n",
        "    if re.match(padrao, str(data)):\n",
        "        return True\n",
        "    else:\n",
        "        return False\n",
        "    \n",
        "# Verificação se é uma data suja\n",
        "datas_sujas = []\n",
        "for index, row in dados.iterrows():\n",
        "    if not verificar_padrao_data(row['Data_Inicio_Sintomas']):\n",
        "        datas_sujas.append((index, row['Data_Inicio_Sintomas']))"
      ]
    },
    {
      "cell_type": "markdown",
      "metadata": {
        "id": "-fKCNBEbPOqL"
      },
      "source": [
        "### Estatísticas descritivas"
      ]
    },
    {
      "cell_type": "code",
      "execution_count": 24,
      "metadata": {
        "colab": {
          "base_uri": "https://localhost:8080/"
        },
        "id": "y-Su2ZE6POqL",
        "outputId": "976a5f5d-9d6a-4b8f-e2d7-696026ee2fde"
      },
      "outputs": [
        {
          "name": "stdout",
          "output_type": "stream",
          "text": [
            "\n",
            "Estatísticas descritivas:\n",
            "              Idade          Obito\n",
            "count  96802.000000  100000.000000\n",
            "mean      41.089347       0.026390\n",
            "std       18.432236       0.160293\n",
            "min        0.000000       0.000000\n",
            "25%       28.000000       0.000000\n",
            "50%       40.000000       0.000000\n",
            "75%       54.000000       0.000000\n",
            "max      120.000000       1.000000\n"
          ]
        }
      ],
      "source": [
        "print(\"\\nEstatísticas descritivas:\")\n",
        "estatisticas_descritivas = dados.describe()\n",
        "print(estatisticas_descritivas)"
      ]
    },
    {
      "cell_type": "markdown",
      "metadata": {},
      "source": [
        "### Calcular o IQR e identificar outliers"
      ]
    },
    {
      "cell_type": "code",
      "execution_count": 25,
      "metadata": {
        "colab": {
          "base_uri": "https://localhost:8080/"
        },
        "id": "0VGksrmW-cRa",
        "outputId": "2eec1d63-a08c-42fa-fc45-5bda1f0faf0f"
      },
      "outputs": [],
      "source": [
        "Q1 = dados['Idade'].quantile(0.25)\n",
        "Q3 = dados['Idade'].quantile(0.75)\n",
        "IQR = Q3 - Q1\n",
        "\n",
        "outliers = dados[(dados['Idade'] < Q1 - 1.5 * IQR) | (dados['Idade'] > Q3 + 1.5 * IQR)]\n",
        "outliers.to_csv('outliers.csv', index=False)"
      ]
    },
    {
      "cell_type": "markdown",
      "metadata": {
        "id": "FuGLDFH7POqL"
      },
      "source": [
        "## Cross Validation com 7 algoritmos"
      ]
    },
    {
      "cell_type": "markdown",
      "metadata": {
        "id": "f4jJf4FnPOqM"
      },
      "source": [
        "### Exclusão de linhas com valores faltantes"
      ]
    },
    {
      "cell_type": "code",
      "execution_count": 26,
      "metadata": {
        "colab": {
          "base_uri": "https://localhost:8080/"
        },
        "id": "llYJ4Gk6POqM",
        "outputId": "e39c8ab4-7b29-4a7b-99ca-27914567b8df"
      },
      "outputs": [],
      "source": [
        "dados.dropna(inplace=True)"
      ]
    },
    {
      "cell_type": "markdown",
      "metadata": {
        "id": "zGpYPzArPOqM"
      },
      "source": [
        "### Seleção de atributos (x) e variável alvo (y)"
      ]
    },
    {
      "cell_type": "code",
      "execution_count": 27,
      "metadata": {
        "colab": {
          "base_uri": "https://localhost:8080/"
        },
        "id": "eBRAvyTNPOqM",
        "outputId": "99587d7a-dec1-490b-e7d5-5485a3d8b2b5"
      },
      "outputs": [],
      "source": [
        "X = dados[['Asma', 'Cardiopatia', 'Data_Inicio_Sintomas', 'Diabetes', 'Diagnostico_Covid19', 'Doenca_Hematologica',\n",
        "           'Doenca_Hepatica', 'Doenca_Neurologica', 'Doenca Renal', 'Genero', 'Idade', 'Imunodepressao', 'Municipio',\n",
        "           'Obesidade', 'Outros_Fatores_De_Risco', 'Pneumopatia', 'Puérpera', 'Síndrome_De_Down']].copy()\n",
        "y = dados['Obito'].copy()"
      ]
    },
    {
      "cell_type": "markdown",
      "metadata": {
        "id": "wgvnRG_vPOqN"
      },
      "source": [
        "### Normalização dos dados"
      ]
    },
    {
      "cell_type": "code",
      "execution_count": 28,
      "metadata": {
        "colab": {
          "base_uri": "https://localhost:8080/"
        },
        "id": "EMxI8fpYPOqN",
        "outputId": "2f97a1a4-3781-4f2f-c5b2-74b73bc2f61f"
      },
      "outputs": [],
      "source": [
        "le = LabelEncoder()\n",
        "\n",
        "for column in X.columns:\n",
        "    if X[column].dtype == 'object':\n",
        "        X[column] = le.fit_transform(X[column].astype(str))\n",
        "\n",
        "scaler = MinMaxScaler()\n",
        "\n",
        "X_normalizado = scaler.fit_transform(X)"
      ]
    },
    {
      "cell_type": "markdown",
      "metadata": {
        "id": "_WOnPX74POqN"
      },
      "source": [
        "### Lista de classificadores"
      ]
    },
    {
      "cell_type": "code",
      "execution_count": 29,
      "metadata": {
        "colab": {
          "base_uri": "https://localhost:8080/"
        },
        "id": "sTqVOqBsPOqN",
        "outputId": "de1ae87a-5b7b-4dc0-bb28-d28b585991e3"
      },
      "outputs": [],
      "source": [
        "classifiers = [\n",
        "    GaussianNB(),\n",
        "    KNeighborsClassifier(),\n",
        "    LogisticRegression(),\n",
        "    XGBClassifier(),\n",
        "    MultinomialNB(),\n",
        "    RidgeClassifier(),\n",
        "    NearestCentroid()\n",
        "]"
      ]
    },
    {
      "cell_type": "markdown",
      "metadata": {},
      "source": [
        "### Dicionário para armazenar as métricas de cada classificador"
      ]
    },
    {
      "cell_type": "code",
      "execution_count": 30,
      "metadata": {
        "colab": {
          "base_uri": "https://localhost:8080/",
          "height": 394
        },
        "id": "4PxOS7iLDXWv",
        "outputId": "460327e5-7cf6-4e45-fcf1-cf4d086b71e4"
      },
      "outputs": [],
      "source": [
        "metrics = {\n",
        "    'Acurácia': [],\n",
        "    'Precisão': [],\n",
        "    'Sensibilidade/Recall': [],\n",
        "    'Medida-F1': []\n",
        "}"
      ]
    },
    {
      "cell_type": "markdown",
      "metadata": {
        "id": "9ayTvOMiPOqO"
      },
      "source": [
        "### Execução da cross validation para cada classificador"
      ]
    },
    {
      "cell_type": "code",
      "execution_count": 31,
      "metadata": {
        "colab": {
          "base_uri": "https://localhost:8080/"
        },
        "id": "lryYmZh6POqO",
        "outputId": "3b62c4cd-1ebd-47af-ce5c-e7c266dcc1f3"
      },
      "outputs": [],
      "source": [
        "for classifier in classifiers:\n",
        "    # Calcula a acurácia usando validação cruzada (cv=10 para 10 folds)\n",
        "    accuracy = cross_val_score(classifier, X_normalizado, y, cv=10, scoring='accuracy').mean()\n",
        "    # Calcula a precisão usando validação cruzada\n",
        "    precision = cross_val_score(classifier, X_normalizado, y, cv=10, scoring='precision').mean()\n",
        "    # Calcula a sensibilidade/recall usando validação cruzada\n",
        "    recall = cross_val_score(classifier, X_normalizado, y, cv=10, scoring='recall').mean()\n",
        "    # Calcula a medida-F1 usando validação cruzada\n",
        "    f1 = cross_val_score(classifier, X_normalizado, y, cv=10, scoring='f1').mean()\n",
        "\n",
        "    metrics['Acurácia'].append(accuracy)\n",
        "    metrics['Precisão'].append(precision)\n",
        "    metrics['Sensibilidade/Recall'].append(recall)\n",
        "    metrics['Medida-F1'].append(f1)"
      ]
    },
    {
      "cell_type": "markdown",
      "metadata": {},
      "source": [
        "### Exibição dos resultados"
      ]
    },
    {
      "cell_type": "code",
      "execution_count": 32,
      "metadata": {},
      "outputs": [
        {
          "name": "stdout",
          "output_type": "stream",
          "text": [
            "Acurácia: [0.9518238730303962, 0.9707061003042508, 0.9726887644306048, 0.9718894438989597, 0.9616750198336668, 0.9727510578656025, 0.9490522531913979]\n",
            "Precisão: [0.3144547100142251, 0.41755596424579655, 0.504293983422456, 0.46862853442151203, 0.35139280722466604, 0.5656516290726816, 0.29235273693094294]\n",
            "Sensibilidade/Recall: [0.6422701348081575, 0.17771056573337946, 0.19932307869570226, 0.1936326189653186, 0.4721468487152897, 0.0287965203364443, 0.6058949763797673]\n",
            "Medida-F1: [0.4220895665639242, 0.24902914507367013, 0.28552040912992654, 0.2732904625631137, 0.40281810335436063, 0.054719811649583214, 0.3943618014833987]\n"
          ]
        }
      ],
      "source": [
        "for metric, values in metrics.items():\n",
        "    print(f'{metric}: {values}')"
      ]
    }
  ],
  "metadata": {
    "colab": {
      "provenance": []
    },
    "kernelspec": {
      "display_name": "Python 3",
      "language": "python",
      "name": "python3"
    },
    "language_info": {
      "codemirror_mode": {
        "name": "ipython",
        "version": 3
      },
      "file_extension": ".py",
      "mimetype": "text/x-python",
      "name": "python",
      "nbconvert_exporter": "python",
      "pygments_lexer": "ipython3",
      "version": "3.12.0"
    },
    "toc": {
      "base_numbering": 1,
      "nav_menu": {},
      "number_sections": true,
      "sideBar": true,
      "skip_h1_title": false,
      "title_cell": "Table of Contents",
      "title_sidebar": "Contents",
      "toc_cell": false,
      "toc_position": {},
      "toc_section_display": true,
      "toc_window_display": false
    }
  },
  "nbformat": 4,
  "nbformat_minor": 0
}
